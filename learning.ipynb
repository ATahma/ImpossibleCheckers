{
 "cells": [
  {
   "cell_type": "code",
   "execution_count": 1,
   "metadata": {},
   "outputs": [],
   "source": [
    "from Board import Board"
   ]
  },
  {
   "cell_type": "code",
   "execution_count": 2,
   "metadata": {
    "scrolled": true
   },
   "outputs": [
    {
     "name": "stdout",
     "output_type": "stream",
     "text": [
      "    0 1 2 3 4 5 6 7\n",
      "\n",
      "0  |▓| |▓| |▓| |▓| |\n",
      "1  | |▓| |▓| |▓| |▓|\n",
      "2  |▓| |▓| |▓| |▓| |\n",
      "3  | | | | | | | | |\n",
      "4  | | | | | | | | |\n",
      "5  | |░| |░| |░| |░|\n",
      "6  |░| |░| |░| |░| |\n",
      "7  | |░| |░| |░| |░|\n",
      "\n"
     ]
    }
   ],
   "source": [
    "b = Board()\n",
    "print(b)"
   ]
  },
  {
   "cell_type": "code",
   "execution_count": 15,
   "metadata": {},
   "outputs": [
    {
     "name": "stdout",
     "output_type": "stream",
     "text": [
      "(Piece((2, 6), white), (3, 7))\n",
      "<class 'Piece.Piece'>\n",
      "(Piece((2, 6), white), (3, 5))\n",
      "<class 'Piece.Piece'>\n",
      "(Piece((2, 4), white), (3, 3))\n",
      "<class 'Piece.Piece'>\n",
      "(Piece((2, 4), white), (3, 5))\n",
      "<class 'Piece.Piece'>\n",
      "(Piece((2, 2), white), (3, 3))\n",
      "<class 'Piece.Piece'>\n",
      "(Piece((2, 0), white), (3, 1))\n",
      "<class 'Piece.Piece'>\n",
      "(Piece((2, 2), white), (3, 1))\n",
      "<class 'Piece.Piece'>\n"
     ]
    }
   ],
   "source": [
    "for i in b.player1.legalMoves(b.player2):\n",
    "    print(i)\n",
    "    print(type(i[0]))"
   ]
  },
  {
   "cell_type": "code",
   "execution_count": 18,
   "metadata": {},
   "outputs": [
    {
     "data": {
      "text/plain": [
       "set()"
      ]
     },
     "execution_count": 18,
     "metadata": {},
     "output_type": "execute_result"
    }
   ],
   "source": [
    "b.player1.legalCaptures(b.player2)"
   ]
  },
  {
   "cell_type": "code",
   "execution_count": 1,
   "metadata": {},
   "outputs": [],
   "source": [
    "import numpy as np\n",
    "from Board import Board\n",
    "\n",
    "class agent:\n",
    "    \"\"\"\n",
    "    Learning class used to implement the components for reinforcement learning\n",
    "    \"\"\"\n",
    "    def __init__(self, expRate = 0, discount = 1):\n",
    "        \"\"\"\n",
    "        Initialize a Board object with the follwoing properties\n",
    "        states : all the past boards and the actions that led to them\n",
    "        expRate : between 0 and 1, probability of taking a random move\n",
    "        dc : the discount factor used to dampen the agent's rewards\n",
    "        \"\"\"\n",
    "        self.board = Board()\n",
    "        # create a dictionary to keep track of all the past steps\n",
    "        self.states = {}\n",
    "        self.expRate = expRate\n",
    "        self.dc = discount\n",
    "    def domain(self, verbose = False, showBoard = True):\n",
    "        \"\"\"\n",
    "        return a tuple of lists, consisting of the possible moves for\n",
    "        respectively player 1 and player 2\n",
    "        also print the possible moves for display if \n",
    "        specified verbose = True (False by default)\n",
    "        print the board (unless specified otherwise)\n",
    "        \"\"\"\n",
    "        # print the moves if specified\n",
    "        # first get the legal moves for both players as sets\n",
    "        # this makes them more reusable for after\n",
    "        self.p1legal = self.board.player1.legalMoves(self.board.player2)\n",
    "        self.p2legal = self.board.player2.legalMoves(self.board.player1)\n",
    "        if  verbose:\n",
    "            # go over all the specified legal moves for both players\n",
    "            print('PLAYER 1: {}'.format(self.board.player1.color()))\n",
    "            for move in self.p1legal:\n",
    "                print('{} --> {}'.format(move[0].pos,move[1]))      \n",
    "            print('PLAYER 2: {}'.format(self.board.player2.color()))\n",
    "            for move in self.p2legal:\n",
    "                print('{} --> {}'.format(move[0].pos,move[1]))\n",
    "        if showBoard: # print the current state of the board\n",
    "            print(self.board)\n",
    "        # now construct the possbile moves arrays\n",
    "        # this a numpy array object made of tuples wher\n",
    "        # tuple[0] is current position and tuple[1] is\n",
    "        # next psoition if the move is performed\n",
    "        self.p1moves = np.array([(move[0].pos,move[1]) for move in self.p1legal])\n",
    "        self.p2moves = np.array([(move[0].pos,move[1]) for move in self.p2legal])\n",
    "        return (self.p1moves.copy(), self.p2moves.copy())\n",
    "    def save_state(self):\n",
    "        \"\"\"Save the state of the current board and the action\n",
    "            leading to it inside the self.states dictionary\n",
    "        \"\"\"\n",
    "        self.states.append()"
   ]
  },
  {
   "cell_type": "code",
   "execution_count": 12,
   "metadata": {},
   "outputs": [
    {
     "data": {
      "text/plain": [
       "1"
      ]
     },
     "execution_count": 12,
     "metadata": {},
     "output_type": "execute_result"
    }
   ],
   "source": [
    "g = np.append(np.array([]),l.board.player1.pieces[(2, 4)])\n",
    "g[0].state"
   ]
  },
  {
   "cell_type": "code",
   "execution_count": 2,
   "metadata": {},
   "outputs": [
    {
     "name": "stdout",
     "output_type": "stream",
     "text": [
      "PLAYER 1: white\n",
      "(2, 2) --> (3, 3)\n",
      "(2, 6) --> (3, 5)\n",
      "(2, 2) --> (3, 1)\n",
      "(2, 6) --> (3, 7)\n",
      "(2, 0) --> (3, 1)\n",
      "(2, 4) --> (3, 5)\n",
      "(2, 4) --> (3, 3)\n",
      "PLAYER 2: black\n",
      "(5, 1) --> (4, 0)\n",
      "(5, 5) --> (4, 4)\n",
      "(5, 7) --> (4, 6)\n",
      "(5, 3) --> (4, 2)\n",
      "(5, 3) --> (4, 4)\n",
      "(5, 5) --> (4, 6)\n",
      "(5, 1) --> (4, 2)\n",
      "    0 1 2 3 4 5 6 7\n",
      "\n",
      "0  |▓| |▓| |▓| |▓| |\n",
      "1  | |▓| |▓| |▓| |▓|\n",
      "2  |▓| |▓| |▓| |▓| |\n",
      "3  | | | | | | | | |\n",
      "4  | | | | | | | | |\n",
      "5  | |░| |░| |░| |░|\n",
      "6  |░| |░| |░| |░| |\n",
      "7  | |░| |░| |░| |░|\n",
      "\n"
     ]
    }
   ],
   "source": [
    "l = agent()\n",
    "(a,b) = l.domain(verbose = True)"
   ]
  },
  {
   "cell_type": "code",
   "execution_count": 8,
   "metadata": {},
   "outputs": [
    {
     "name": "stdout",
     "output_type": "stream",
     "text": [
      "1\n",
      "1\n",
      "1\n",
      "1\n",
      "1\n",
      "1\n",
      "1\n",
      "1\n",
      "1\n",
      "1\n",
      "1\n",
      "1\n",
      "[] [Piece((0, 0), white) Piece((1, 3), white) Piece((2, 6), white)\n",
      " Piece((0, 2), white) Piece((2, 2), white) Piece((0, 6), white)\n",
      " Piece((1, 5), white) Piece((2, 0), white) Piece((2, 4), white)\n",
      " Piece((0, 4), white) Piece((1, 1), white) Piece((1, 7), white)]\n"
     ]
    }
   ],
   "source": [
    "crowned = []\n",
    "uncrowned = []\n",
    "for piece in l.board.player1.pieces.values(): # iterate over all the pieces\n",
    "    # check state\n",
    "    print(piece.state)\n",
    "    if piece.state == 2:\n",
    "        # append to proper array\n",
    "        crowned.append(piece)\n",
    "    else:\n",
    "        uncrowned.append(piece)\n",
    "crowned, uncrowned = np.array(crowned), np.array(uncrowned)\n",
    "print(crowned, uncrowned)"
   ]
  }
 ],
 "metadata": {
  "kernelspec": {
   "display_name": "Python 3",
   "language": "python",
   "name": "python3"
  },
  "language_info": {
   "codemirror_mode": {
    "name": "ipython",
    "version": 3
   },
   "file_extension": ".py",
   "mimetype": "text/x-python",
   "name": "python",
   "nbconvert_exporter": "python",
   "pygments_lexer": "ipython3",
   "version": "3.7.3"
  }
 },
 "nbformat": 4,
 "nbformat_minor": 2
}
